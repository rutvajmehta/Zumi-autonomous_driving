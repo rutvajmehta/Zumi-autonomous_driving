{
 "cells": [
  {
   "cell_type": "code",
   "execution_count": 2,
   "metadata": {},
   "outputs": [
    {
     "name": "stdout",
     "output_type": "stream",
     "text": [
      "Pi Zero I2C is available\n",
      "Gyro offset file already exists.\n",
      "Verified Pi Zero is the same\n",
      "Gyroscope previously calibrated\n"
     ]
    }
   ],
   "source": [
    "from zumi.zumi import Zumi\n",
    "from zumi.util.screen import Screen\n",
    "import time\n",
    "z = Zumi()\n",
    "s = Screen()"
   ]
  },
  {
   "cell_type": "code",
   "execution_count": null,
   "metadata": {},
   "outputs": [],
   "source": [
    "z.mpu.calibrate_MPU()\n",
    "for i in range (50):\n",
    "    current_angle = int(z.update_angles()[0])\n",
    "    message = \"x angle reading \" \n",
    "    message = message + str(current_angle)\n",
    "    s.draw_text(message)\n",
    "    time.sleep(0.355555555555555555555)\n",
    "print(\"done\")\n",
    "s.draw_text(\"done\")"
   ]
  },
  {
   "cell_type": "code",
   "execution_count": null,
   "metadata": {},
   "outputs": [],
   "source": [
    "for i in range (50):\n",
    "    ir_reading = z.get_all_IR_data()\n",
    "    front_right = ir_reading[0]\n",
    "    front_left = ir_reading[5]\n",
    "    message = \"IR readings\"\n",
    "    message = message + str(front_right) +\", \" + str(front_left)\n",
    "    s.draw_text(message)\n",
    "    time.sleep(0.355555555555555555555)\n",
    "print(\"done\")\n",
    "s.draw_text(\"done\")"
   ]
  },
  {
   "cell_type": "code",
   "execution_count": null,
   "metadata": {},
   "outputs": [],
   "source": [
    "for i in range (50):\n",
    "    ir_reading = z.get_all_IR_data()\n",
    "    back_right = ir_reading[2]\n",
    "    back_left = ir_reading[4]\n",
    "    message = \"IR readings\"\n",
    "    message = message + str(back_right) +\", \" + str(back_left)\n",
    "    s.draw_text(message)\n",
    "    time.sleep(0.355555555555555555555)\n",
    "print(\"done\")\n",
    "s.draw_text(\"done\")"
   ]
  },
  {
   "cell_type": "code",
   "execution_count": null,
   "metadata": {},
   "outputs": [],
   "source": [
    "for i in range (50):\n",
    "    ir_reading = z.get_all_IR_data()\n",
    "    bottom_right = ir_reading[1]\n",
    "    bottom_left = ir_reading[3]\n",
    "    message = \"IR readings\"\n",
    "    message = message + str(bottom_right) +\", \" + str(bottom_left)\n",
    "    s.draw_text(message)\n",
    "    time.sleep(0.355555555555555555555)\n",
    "print(\"done\")\n",
    "s.draw_text(\"done\")\n"
   ]
  },
  {
   "cell_type": "code",
   "execution_count": null,
   "metadata": {},
   "outputs": [],
   "source": [
    "from zumi.protocol import Note \n",
    "z.play_note(Note.G4)\n",
    "z.play_note(Note.G4)\n",
    "z.play_note(Note.D4)\n",
    "z.play_note(Note.D4)\n",
    "z.play_note(Note.E4)\n",
    "z.play_note(Note.E4)\n",
    "z.play_note(Note.D4)\n",
    "z.play_note(Note.C4)\n",
    "z.play_note(Note.C4)\n",
    "z.play_note(Note.B4)\n",
    "z.play_note(Note.B4)\n",
    "z.play_note(Note.A4)\n",
    "z.play_note(Note.A4)\n",
    "z.play_note(Note.G4)\n",
    "z.play_note(Note.D4)\n",
    "z.play_note(Note.D4)\n",
    "z.play_note(Note.C4)\n",
    "z.play_note(Note.C4)\n",
    "z.play_note(Note.B4)\n",
    "z.play_note(Note.B4)\n",
    "z.play_note(Note.A4)\n",
    "z.play_note(Note.D4)\n",
    "z.play_note(Note.D4)\n",
    "z.play_note(Note.C4)\n",
    "z.play_note(Note.C4)\n",
    "z.play_note(Note.B4)\n",
    "z.play_note(Note.B4)\n",
    "z.play_note(Note.A4)\n",
    "z.play_note(Note.G4)\n",
    "z.play_note(Note.G4)\n",
    "z.play_note(Note.D4)\n",
    "z.play_note(Note.D4)\n",
    "z.play_note(Note.E4)\n",
    "z.play_note(Note.E4)\n",
    "z.play_note(Note.D4)\n",
    "z.play_note(Note.C4)\n",
    "z.play_note(Note.C4)\n",
    "z.play_note(Note.B4)\n",
    "z.play_note(Note.B4)\n",
    "z.play_note(Note.A4)\n",
    "z.play_note(Note.A4)\n",
    "z.play_note(Note.G4)"
   ]
  },
  {
   "cell_type": "code",
   "execution_count": null,
   "metadata": {},
   "outputs": [],
   "source": []
  }
 ],
 "metadata": {
  "kernelspec": {
   "display_name": "Python 3",
   "language": "python",
   "name": "python3"
  }
 },
 "nbformat": 4,
 "nbformat_minor": 2
}
